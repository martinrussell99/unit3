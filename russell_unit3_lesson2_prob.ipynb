{
 "cells": [
  {
   "cell_type": "code",
   "execution_count": 2,
   "metadata": {},
   "outputs": [
    {
     "name": "stdout",
     "output_type": "stream",
     "text": [
      "0.0625\n"
     ]
    }
   ],
   "source": [
    "#1\n",
    "probability = .5 * .5 * .5 *.5\n",
    "print(probability)\n"
   ]
  },
  {
   "cell_type": "code",
   "execution_count": 3,
   "metadata": {},
   "outputs": [
    {
     "name": "stdout",
     "output_type": "stream",
     "text": [
      "0.5333333333333333\n"
     ]
    }
   ],
   "source": [
    "#2\n",
    "no_man = 24/45\n",
    "print(no_man)"
   ]
  },
  {
   "cell_type": "code",
   "execution_count": 4,
   "metadata": {},
   "outputs": [
    {
     "name": "stdout",
     "output_type": "stream",
     "text": [
      "0.0005\n"
     ]
    }
   ],
   "source": [
    "#3\n",
    "crash = .10 * .005\n",
    "print(crash)"
   ]
  },
  {
   "cell_type": "code",
   "execution_count": null,
   "metadata": {},
   "outputs": [],
   "source": [
    "#4 The survey is biased, the longer they spend, the more chance of them taking the survey, so the only people taking the survey\n",
    "#are the people spending a long time on the site."
   ]
  },
  {
   "cell_type": "code",
   "execution_count": 5,
   "metadata": {},
   "outputs": [
    {
     "name": "stdout",
     "output_type": "stream",
     "text": [
      "0.10490000000000001\n"
     ]
    }
   ],
   "source": [
    "#Bayes' Rule, chance of a positive result\n",
    "\n",
    "positive_chance = (.98 * .005) + .10\n",
    "print(positive_chance)"
   ]
  },
  {
   "cell_type": "code",
   "execution_count": 7,
   "metadata": {},
   "outputs": [
    {
     "name": "stdout",
     "output_type": "stream",
     "text": [
      "0.98\n"
     ]
    }
   ],
   "source": [
    "#2 Bayes' Rule, correct diagnosis\n",
    "correct_diagnosis = .98 \n",
    "print(correct_diagnosis)"
   ]
  },
  {
   "cell_type": "code",
   "execution_count": 9,
   "metadata": {},
   "outputs": [
    {
     "name": "stdout",
     "output_type": "stream",
     "text": [
      "0.9\n"
     ]
    }
   ],
   "source": [
    "#3 Bayes' Rule diagnose a non sufferer\n",
    "no_disease = 1 - .10\n",
    "print(no_disease)"
   ]
  },
  {
   "cell_type": "code",
   "execution_count": 13,
   "metadata": {},
   "outputs": [
    {
     "name": "stdout",
     "output_type": "stream",
     "text": [
      "0.09960000000000002\n"
     ]
    }
   ],
   "source": [
    "#4 misclassify\n",
    "misclass = 1-(.98*.005 + .9*.995)\n",
    "print(misclass)"
   ]
  },
  {
   "cell_type": "code",
   "execution_count": null,
   "metadata": {},
   "outputs": [],
   "source": [
    "#data sources drill\n",
    "'''\n",
    "1. Amsterdam Question: Are all AirBnB locations in popular neigborhoods?  What exactly is the definition of a popular\n",
    "neighborhood anyway?  And scraping the data on Christmas eve, when every AirBnB in town will be taken, not real quality data.\n",
    "\n",
    "2. Mental health paterns: Running this study the day after 9/11, is not going to give quality data, half the country was going \n",
    "crazy on that day.  you could ask 'what mental health services were utilized immeadiately following 9/11'\n",
    "\n",
    "3. Armenian pub question: The sample is all college students, hardly a representative sample of the Armenian population, Could\n",
    "have asked 'why do Armenian college students go to pubs'\n",
    "\n",
    "'''"
   ]
  },
  {
   "cell_type": "code",
   "execution_count": null,
   "metadata": {},
   "outputs": [],
   "source": [
    "#The Monty Hall Problem\n",
    "'''\n",
    "When there were 3 doors, there was a 33.3% chance of getting the prize, now that chance has increased to 50/50.  There is \n",
    "no reason to change your original choice.  I guess, by knowing that Monty did not choose door #2 increases the odds that door #2\n",
    "does not have a goat behind it.\n",
    "\n",
    "'''"
   ]
  }
 ],
 "metadata": {
  "kernelspec": {
   "display_name": "Python 3",
   "language": "python",
   "name": "python3"
  },
  "language_info": {
   "codemirror_mode": {
    "name": "ipython",
    "version": 3
   },
   "file_extension": ".py",
   "mimetype": "text/x-python",
   "name": "python",
   "nbconvert_exporter": "python",
   "pygments_lexer": "ipython3",
   "version": "3.6.5"
  }
 },
 "nbformat": 4,
 "nbformat_minor": 2
}
