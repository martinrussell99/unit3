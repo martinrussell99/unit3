{
 "cells": [
  {
   "cell_type": "code",
   "execution_count": 35,
   "metadata": {},
   "outputs": [],
   "source": [
    "import numpy as np\n",
    "import pandas as pd\n",
    "import matplotlib.pyplot as plt\n",
    "%matplotlib inline\n"
   ]
  },
  {
   "cell_type": "code",
   "execution_count": 88,
   "metadata": {},
   "outputs": [
    {
     "data": {
      "text/plain": [
       "(array([ 5.,  8.,  7., 11., 21., 20., 11., 11.,  5.,  1.]),\n",
       " array([-2.04890731, -1.5956013 , -1.1422953 , -0.6889893 , -0.23568329,\n",
       "         0.21762271,  0.67092872,  1.12423472,  1.57754073,  2.03084673,\n",
       "         2.48415273]),\n",
       " <a list of 10 Patch objects>)"
      ]
     },
     "execution_count": 88,
     "metadata": {},
     "output_type": "execute_result"
    },
    {
     "data": {
      "image/png": "[encoded data removed]",
      "text/plain": [
       "<Figure size 432x288 with 1 Axes>"
      ]
     },
     "metadata": {},
     "output_type": "display_data"
    }
   ],
   "source": [
    "standnorm = np.random.standard_normal(100)\n",
    "plt.axvline(standnorm.mean(), color='b', linestyle='solid', linewidth=3)\n",
    "plt.axvline(standnorm.mean() + standnorm.std(), color='r', linestyle='solid', linewidth=3)\n",
    "plt.axvline(standnorm.mean() - standnorm.std(), color='r', linestyle='solid', linewidth=3)\n",
    "\n",
    "plt.hist(standnorm)\n"
   ]
  },
  {
   "cell_type": "code",
   "execution_count": 93,
   "metadata": {},
   "outputs": [
    {
     "data": {
      "text/plain": [
       "(array([ 1.,  1.,  0., 10., 21., 24., 24., 14.,  4.,  1.]),\n",
       " array([0. , 0.9, 1.8, 2.7, 3.6, 4.5, 5.4, 6.3, 7.2, 8.1, 9. ]),\n",
       " <a list of 10 Patch objects>)"
      ]
     },
     "execution_count": 93,
     "metadata": {},
     "output_type": "execute_result"
    },
    {
     "data": {
      "image/png": "[encoded data removed]",
      "text/plain": [
       "<Figure size 432x288 with 1 Axes>"
      ]
     },
     "metadata": {},
     "output_type": "display_data"
    }
   ],
   "source": [
    "binomial = np.random.binomial(10, .5, 100)\n",
    "plt.axvline(binomial.mean(), color='b', linestyle='solid', linewidth=3)\n",
    "plt.axvline(binomial.mean() + binomial.std(), color='r', linestyle='solid', linewidth=3)\n",
    "plt.axvline(binomial.mean() - binomial.std(), color='r', linestyle='solid', linewidth=3)\n",
    "\n",
    "plt.hist(binomial, color='c')\n"
   ]
  },
  {
   "cell_type": "code",
   "execution_count": 91,
   "metadata": {},
   "outputs": [
    {
     "data": {
      "text/plain": [
       "(array([41.,  0., 23.,  0., 20.,  0., 11.,  0.,  4.,  1.]),\n",
       " array([0. , 0.5, 1. , 1.5, 2. , 2.5, 3. , 3.5, 4. , 4.5, 5. ]),\n",
       " <a list of 10 Patch objects>)"
      ]
     },
     "execution_count": 91,
     "metadata": {},
     "output_type": "execute_result"
    },
    {
     "data": {
      "image/png": "[encoded data removed]",
      "text/plain": [
       "<Figure size 432x288 with 1 Axes>"
      ]
     },
     "metadata": {},
     "output_type": "display_data"
    }
   ],
   "source": [
    "poisson = np.random.poisson(1, 100)\n",
    "plt.axvline(poisson.mean(), color='b', linestyle='solid', linewidth=3)\n",
    "plt.axvline(poisson.mean() + poisson.std(), color='r', linestyle='solid', linewidth=3)\n",
    "plt.axvline(poisson.mean() - poisson.std(), color='r', linestyle='solid', linewidth=3)\n",
    "\n",
    "plt.hist(poisson, color='c')\n"
   ]
  },
  {
   "cell_type": "code",
   "execution_count": 67,
   "metadata": {},
   "outputs": [
    {
     "data": {
      "text/plain": [
       "(array([21., 22., 14., 20., 11.,  6.,  2.,  0.,  1.,  3.]),\n",
       " array([ 0.2680864 ,  1.43920463,  2.61032285,  3.78144108,  4.9525593 ,\n",
       "         6.12367753,  7.29479576,  8.46591398,  9.63703221, 10.80815043,\n",
       "        11.97926866]),\n",
       " <a list of 10 Patch objects>)"
      ]
     },
     "execution_count": 67,
     "metadata": {},
     "output_type": "execute_result"
    },
    {
     "data": {
      "image/png": "[encoded data removed]",
      "text/plain": [
       "<Figure size 432x288 with 1 Axes>"
      ]
     },
     "metadata": {},
     "output_type": "display_data"
    }
   ],
   "source": [
    "\n",
    "shape = 2.\n",
    "scale = 2.\n",
    "gamma = np.random.gamma(shape, scale, 100)\n",
    "plt.axvline(gamma.mean(), color='b', linestyle='solid', linewidth=3)\n",
    "plt.axvline(gamma.mean() + gamma.std(), color='r', linestyle='solid', linewidth=3)\n",
    "plt.axvline(gamma.mean() - gamma.std(), color='r', linestyle='solid', linewidth=3)\n",
    "\n",
    "\n",
    "plt.hist(gamma, color='c')\n"
   ]
  },
  {
   "cell_type": "code",
   "execution_count": 72,
   "metadata": {},
   "outputs": [
    {
     "data": {
      "text/plain": [
       "(array([33., 17., 21., 11.,  5.,  5.,  1.,  3.,  3.,  1.]),\n",
       " array([0.04302087, 0.80690895, 1.57079703, 2.33468511, 3.09857319,\n",
       "        3.86246127, 4.62634934, 5.39023742, 6.1541255 , 6.91801358,\n",
       "        7.68190166]),\n",
       " <a list of 10 Patch objects>)"
      ]
     },
     "execution_count": 72,
     "metadata": {},
     "output_type": "execute_result"
    },
    {
     "data": {
      "image/png": "[encoded data removed]",
      "text/plain": [
       "<Figure size 432x288 with 1 Axes>"
      ]
     },
     "metadata": {},
     "output_type": "display_data"
    }
   ],
   "source": [
    "exponential = np.random.exponential(2, 100)\n",
    "plt.axvline(exponential.mean(), color='b', linestyle='solid', linewidth=3)\n",
    "plt.axvline(exponential.mean() + exponential.std(), color='r', linestyle='solid', linewidth=3)\n",
    "plt.axvline(exponential.mean() - exponential.std(), color='r', linestyle='solid', linewidth=3)\n",
    "\n",
    "plt.hist(exponential, color='c')\n"
   ]
  },
  {
   "cell_type": "code",
   "execution_count": 75,
   "metadata": {},
   "outputs": [
    {
     "data": {
      "text/plain": [
       "(array([12., 14., 16., 18., 18.,  6.,  4.,  4.,  3.,  5.]),\n",
       " array([0.14637855, 0.44578886, 0.74519917, 1.04460948, 1.34401979,\n",
       "        1.6434301 , 1.94284041, 2.24225072, 2.54166103, 2.84107134,\n",
       "        3.14048165]),\n",
       " <a list of 10 Patch objects>)"
      ]
     },
     "execution_count": 75,
     "metadata": {},
     "output_type": "execute_result"
    },
    {
     "data": {
      "image/png": "[encoded data removed]",
      "text/plain": [
       "<Figure size 432x288 with 1 Axes>"
      ]
     },
     "metadata": {},
     "output_type": "display_data"
    }
   ],
   "source": [
    "rayleigh = np.random.rayleigh(1,100)\n",
    "plt.axvline(rayleigh.mean(), color='b', linestyle='solid', linewidth=3)\n",
    "plt.axvline(rayleigh.mean() + rayleigh.std(), color='r', linestyle='solid', linewidth=3)\n",
    "plt.axvline(rayleigh.mean() - rayleigh.std(), color='r', linestyle='solid', linewidth=3)\n",
    "\n",
    "plt.hist(rayleigh, color='c')\n"
   ]
  },
  {
   "cell_type": "code",
   "execution_count": 80,
   "metadata": {},
   "outputs": [
    {
     "data": {
      "image/png": "[encoded data removed]",
      "text/plain": [
       "<Figure size 432x288 with 1 Axes>"
      ]
     },
     "metadata": {},
     "output_type": "display_data"
    }
   ],
   "source": [
    "var1 = np.random.normal(5,.5, 100)\n",
    "var2 = np.random.normal(10,1, 100)\n",
    "var3 = var1+var2\n",
    "mean = np.mean(var3)\n",
    "sd = np.std(var3)\n",
    "\n",
    "plt.hist(var3, color='c')\n",
    "plt.axvline(x=mean,color='black', linestyle='solid', linewidth=3)\n",
    "plt.axvline(x=mean+sd, color='r', linestyle='solid', linewidth=3)\n",
    "plt.axvline(x=mean-sd, color='r', linestyle='solid', linewidth=3)\n",
    "plt.show()\n"
   ]
  },
  {
   "cell_type": "code",
   "execution_count": null,
   "metadata": {},
   "outputs": [],
   "source": []
  }
 ],
 "metadata": {
  "kernelspec": {
   "display_name": "Python 3",
   "language": "python",
   "name": "python3"
  },
  "language_info": {
   "codemirror_mode": {
    "name": "ipython",
    "version": 3
   },
   "file_extension": ".py",
   "mimetype": "text/x-python",
   "name": "python",
   "nbconvert_exporter": "python",
   "pygments_lexer": "ipython3",
   "version": "3.6.5"
  }
 },
 "nbformat": 4,
 "nbformat_minor": 2
}
