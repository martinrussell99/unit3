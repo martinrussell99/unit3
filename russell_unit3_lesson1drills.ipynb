{
 "cells": [
  {
   "cell_type": "code",
   "execution_count": 22,
   "metadata": {},
   "outputs": [],
   "source": [
    "import numpy as np\n",
    "import pandas as pd\n",
    "import matplotlib as plt\n",
    "df = pd.DataFrame()\n",
    "import statistics\n",
    "df['age'] = [14, 12, 11, 10, 8, 6, 8]\n",
    "df['age1'] = [14, 12, 11, 10, 8, 7, 8]\n",
    "df['age2'] = [14, 12, 11, 10, 8, 7, 1]\n",
    "\n",
    "#pre python figure are mode=8, mean=9.6, median=10, variance = 6.474, standard deviation = 2.544, standard error = .961\n",
    "\n"
   ]
  },
  {
   "cell_type": "code",
   "execution_count": 12,
   "metadata": {},
   "outputs": [
    {
     "data": {
      "text/plain": [
       "9.857142857142858"
      ]
     },
     "execution_count": 12,
     "metadata": {},
     "output_type": "execute_result"
    }
   ],
   "source": [
    "np.mean(df['age'])"
   ]
  },
  {
   "cell_type": "code",
   "execution_count": 4,
   "metadata": {},
   "outputs": [
    {
     "data": {
      "text/plain": [
       "10.0"
      ]
     },
     "execution_count": 4,
     "metadata": {},
     "output_type": "execute_result"
    }
   ],
   "source": [
    "np.median(df['age'])"
   ]
  },
  {
   "cell_type": "code",
   "execution_count": 6,
   "metadata": {},
   "outputs": [
    {
     "data": {
      "text/plain": [
       "8"
      ]
     },
     "execution_count": 6,
     "metadata": {},
     "output_type": "execute_result"
    }
   ],
   "source": [
    "statistics.mode(df['age'])"
   ]
  },
  {
   "cell_type": "code",
   "execution_count": 7,
   "metadata": {},
   "outputs": [
    {
     "data": {
      "text/plain": [
       "6.408163265306122"
      ]
     },
     "execution_count": 7,
     "metadata": {},
     "output_type": "execute_result"
    }
   ],
   "source": [
    "np.var(df.age)"
   ]
  },
  {
   "cell_type": "code",
   "execution_count": 8,
   "metadata": {},
   "outputs": [
    {
     "data": {
      "text/plain": [
       "2.734262327610589"
      ]
     },
     "execution_count": 8,
     "metadata": {},
     "output_type": "execute_result"
    }
   ],
   "source": [
    "np.std(df['age'], ddof=1)"
   ]
  },
  {
   "cell_type": "code",
   "execution_count": 9,
   "metadata": {},
   "outputs": [
    {
     "data": {
      "text/plain": [
       "1.0334540197243192"
      ]
     },
     "execution_count": 9,
     "metadata": {},
     "output_type": "execute_result"
    }
   ],
   "source": [
    "np.std(df['age'], ddof=1)/np.sqrt(len(df['age']))"
   ]
  },
  {
   "cell_type": "code",
   "execution_count": null,
   "metadata": {},
   "outputs": [],
   "source": [
    "#2, I would use median to describe the data, because 5 of the ages are within 1 of the mean or median (both numbers are very close)\n",
    "#because both measurments are in the middle of the datapoints.  I would use standard deviation as a measument of variance, because\n",
    "#the majority of the datapoints are within 2.7 of the mean.\n"
   ]
  },
  {
   "cell_type": "code",
   "execution_count": 23,
   "metadata": {},
   "outputs": [
    {
     "name": "stdout",
     "output_type": "stream",
     "text": [
      "10.0 10.0 5.428571428571429 2.516611478423583 0.9511897312113418\n"
     ]
    }
   ],
   "source": [
    "#3\n",
    "mean = np.mean(df['age1'])\n",
    "median = np.median(df['age1'])\n",
    "variance = np.var(df.age1)\n",
    "stddev = np.std(df['age1'], ddof=1)\n",
    "stderr = np.std(df['age1'], ddof=1)/np.sqrt(len(df['age1']))\n",
    "#adding \"1\" to Cindy's age changed the mean and all the measures of variance\n",
    "\n",
    "print(mean, median, variance, stddev, stderr)"
   ]
  },
  {
   "cell_type": "code",
   "execution_count": 24,
   "metadata": {},
   "outputs": [
    {
     "name": "stdout",
     "output_type": "stream",
     "text": [
      "9.0 10.0 15.428571428571429 4.242640687119285 1.6035674514745462\n"
     ]
    }
   ],
   "source": [
    "#4\n",
    "mean = np.mean(df['age2'])\n",
    "median = np.median(df['age2'])\n",
    "variance = np.var(df.age2)\n",
    "stddev = np.std(df['age2'], ddof=1)\n",
    "stderr = np.std(df['age2'], ddof=1)/np.sqrt(len(df['age2']))\n",
    "#Getting rid of oliver and replacing him with a 1 year old Jessica dropped the mean to \"9\", and took away the mode,\n",
    "# the mean now is probably the best measure of central tendancy since it is closest to the majority of the data points,\n",
    "#Jessica being 1 year old makes her an outlier, variance tripled to represent this, showing that there is a lot of\n",
    "#differences between datapoints.\n",
    "\n",
    "print(mean, median, variance, stddev, stderr)"
   ]
  },
  {
   "cell_type": "code",
   "execution_count": 3,
   "metadata": {},
   "outputs": [
    {
     "data": {
      "text/plain": [
       "9.857142857142858"
      ]
     },
     "execution_count": 3,
     "metadata": {},
     "output_type": "execute_result"
    }
   ],
   "source": [
    "#5, this is a biased sample, you reaqlly can't estimated the percentage of adult Americans were fans of the shou\n",
    "#based on the readership of these magazines, the people who read the magazines are hardly a representative sample\n",
    "#of the U.S. population."
   ]
  }
 ],
 "metadata": {
  "kernelspec": {
   "display_name": "Python 3",
   "language": "python",
   "name": "python3"
  },
  "language_info": {
   "codemirror_mode": {
    "name": "ipython",
    "version": 3
   },
   "file_extension": ".py",
   "mimetype": "text/x-python",
   "name": "python",
   "nbconvert_exporter": "python",
   "pygments_lexer": "ipython3",
   "version": "3.6.5"
  }
 },
 "nbformat": 4,
 "nbformat_minor": 2
}
